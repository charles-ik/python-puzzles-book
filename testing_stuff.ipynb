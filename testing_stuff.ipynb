{
 "cells": [
  {
   "cell_type": "code",
   "execution_count": 2,
   "id": "5aa2d33a",
   "metadata": {},
   "outputs": [],
   "source": [
    "import pandas as pd \n",
    "import numpy as np \n",
    "import math \n",
    "import os "
   ]
  },
  {
   "cell_type": "code",
   "execution_count": null,
   "id": "6bb62817",
   "metadata": {},
   "outputs": [],
   "source": [
    "dir(math)"
   ]
  },
  {
   "cell_type": "code",
   "execution_count": 11,
   "id": "14cf1f21",
   "metadata": {},
   "outputs": [
    {
     "data": {
      "text/plain": [
       "235"
      ]
     },
     "execution_count": 11,
     "metadata": {},
     "output_type": "execute_result"
    }
   ],
   "source": [
    "math.floor(2453.99924)\n",
    "\n",
    "math.ceil(234.4)"
   ]
  },
  {
   "cell_type": "code",
   "execution_count": null,
   "id": "07effa6f",
   "metadata": {},
   "outputs": [],
   "source": [
    "\n",
    "\n",
    "def get_number_of_digits(input_num: int) -> int:\n",
    "    '''\n",
    "    When called, the function should return the number of digits in the input_num.\n",
    "        Caveats:\n",
    "        The function should be recursive\n",
    "        The function should not convert the integer to a string\n",
    "    \n",
    "    '''\n",
    "    \n",
    "\n",
    "    if(input_num>0):\n",
    "\n",
    "        result = input_num // 10\n",
    "        get_number_of_digits(result)\n",
    "        count +=1\n",
    "\n",
    "    else:\n",
    "        result = 0\n",
    "    return count\n",
    "\n",
    "\n",
    "\n",
    "\n",
    "get_number_of_digits(input_num = 18)"
   ]
  },
  {
   "cell_type": "markdown",
   "id": "234c17e2",
   "metadata": {},
   "source": [
    "Good start! You're on the right track with some key concepts, but there are a few issues to address:\n",
    "\n",
    "**What's working well:**\n",
    "\n",
    "-   ✅ You're using `input_num // 10` correctly to remove the rightmost digit\n",
    "-   ✅ You're making a recursive call to `get_number_of_digits(result)`\n",
    "-   ✅ You have the structure of an if/else for base case vs recursive case\n",
    "\n",
    "**Issues to fix:**\n",
    "\n",
    "1.  **Variable scope problem:** Where is `count` defined? Think about this - in recursion, you typically don't need a separate counter variable that you increment.\n",
    "2.  **Missing return value:** You're calling `get_number_of_digits(result)` but not doing anything with what it returns. What should you do with that returned value?\n",
    "3.  **Base case logic:** Your condition `if(input_num > 0)` means your base case is when `input_num` equals 0. But think about it - if you keep dividing by 10, when do you actually have 1 digit left?\n",
    "4.  **Return value in base case:** In your else block, what should you return? If you've reached your base case, how many digits are you looking at?\n",
    "\n",
    "**Think about this pattern:**\n",
    "\n",
    "-   If I have 1 digit, return ___\n",
    "-   If I have more than 1 digit, return ___ + get_number_of_digits(number_with_one_less_digit)\n",
    "\n",
    "Try revising with these hints! You're very close to the solution."
   ]
  },
  {
   "cell_type": "code",
   "execution_count": 1,
   "id": "35514af5",
   "metadata": {},
   "outputs": [],
   "source": [
    "count = 0 \n",
    "\n",
    "number =324\n",
    "number // 10\n",
    "count += 1\n"
   ]
  },
  {
   "cell_type": "code",
   "execution_count": 8,
   "id": "31809523",
   "metadata": {},
   "outputs": [],
   "source": [
    "def filter_with_any_2(input_strs: list[str]) -> list[str]:\n",
    "    ''' Using generator expression and any function\n",
    "    '''\n",
    "    return([word for word in input_strs if any(vowel in word for  vowel in 'aeiou')])"
   ]
  },
  {
   "cell_type": "code",
   "execution_count": 4,
   "id": "11f91a05",
   "metadata": {},
   "outputs": [
    {
     "data": {
      "text/plain": [
       "[True, False, False, False, False]"
      ]
     },
     "execution_count": 4,
     "metadata": {},
     "output_type": "execute_result"
    }
   ],
   "source": [
    "string = 'sdkjshakd'\n",
    "\n",
    "lst1 = [vowel in string for vowel in 'aieou']\n",
    "\n",
    "lst1"
   ]
  },
  {
   "cell_type": "code",
   "execution_count": 9,
   "id": "1bc09ad3",
   "metadata": {},
   "outputs": [
    {
     "name": "stdout",
     "output_type": "stream",
     "text": [
      "\n",
      " Second filter with any function\n",
      "['apple', 'banana']\n",
      "[]\n",
      "['e']\n",
      "['ae', 'io', 'aeiou']\n"
     ]
    }
   ],
   "source": [
    "print(\"\\n Second filter with any function\")\n",
    "print(filter_with_any_2([\"apple\", \"banana\", \"zyxvb\"]))\n",
    "print(filter_with_any_2([]))\n",
    "print(filter_with_any_2([\"q\", \"w\", \"e\", \"r\", \"t\", \"y\"]))\n",
    "print(filter_with_any_2([\"ae\", \"io\", \"aeiou\"]))"
   ]
  },
  {
   "cell_type": "code",
   "execution_count": 17,
   "id": "cfbe7496",
   "metadata": {},
   "outputs": [
    {
     "name": "stdout",
     "output_type": "stream",
     "text": [
      "True\n",
      "\n",
      "True\n",
      "h\n",
      "True\n",
      "e\n",
      "l\n",
      "False\n"
     ]
    }
   ],
   "source": [
    "\n",
    "from collections import defaultdict\n",
    "\n",
    "input_str = 'hellosdsddsd'\n",
    "string_dic = defaultdict(str)\n",
    "    \n",
    "for char in input_str: \n",
    "    if char == string_dic['previous string']:\n",
    "        is_happy = False\n",
    "        print (string_dic['previous string'])\n",
    "        print(is_happy)\n",
    "        break\n",
    "    else:\n",
    "        is_happy = True\n",
    "        print(is_happy)\n",
    "        print (string_dic['previous string'])\n",
    "    string_dic['previous string'] = char\n",
    "\n",
    "\n",
    "\n"
   ]
  },
  {
   "cell_type": "code",
   "execution_count": null,
   "id": "8198d382",
   "metadata": {},
   "outputs": [
    {
     "data": {
      "text/plain": [
       "range(0, 10)"
      ]
     },
     "execution_count": 18,
     "metadata": {},
     "output_type": "execute_result"
    },
    {
     "ename": "",
     "evalue": "",
     "output_type": "error",
     "traceback": [
      "\u001b[1;31mThe Kernel crashed while executing code in the current cell or a previous cell. \n",
      "\u001b[1;31mPlease review the code in the cell(s) to identify a possible cause of the failure. \n",
      "\u001b[1;31mClick <a href='https://aka.ms/vscodeJupyterKernelCrash'>here</a> for more info. \n",
      "\u001b[1;31mView Jupyter <a href='command:jupyter.viewOutput'>log</a> for further details."
     ]
    }
   ],
   "source": [
    "range(len(input_str) - 2)\n",
    "thre"
   ]
  },
  {
   "cell_type": "code",
   "execution_count": null,
   "id": "b544f633",
   "metadata": {},
   "outputs": [],
   "source": []
  }
 ],
 "metadata": {
  "kernelspec": {
   "display_name": "Python 3",
   "language": "python",
   "name": "python3"
  },
  "language_info": {
   "codemirror_mode": {
    "name": "ipython",
    "version": 3
   },
   "file_extension": ".py",
   "mimetype": "text/x-python",
   "name": "python",
   "nbconvert_exporter": "python",
   "pygments_lexer": "ipython3",
   "version": "3.9.22"
  }
 },
 "nbformat": 4,
 "nbformat_minor": 5
}
