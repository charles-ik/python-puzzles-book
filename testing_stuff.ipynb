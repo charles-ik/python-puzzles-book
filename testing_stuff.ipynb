{
 "cells": [
  {
   "cell_type": "code",
   "execution_count": 1,
   "id": "5aa2d33a",
   "metadata": {},
   "outputs": [],
   "source": [
    "import pandas as pd \n",
    "import numpy as np \n",
    "import math "
   ]
  },
  {
   "cell_type": "code",
   "execution_count": 8,
   "id": "31809523",
   "metadata": {},
   "outputs": [],
   "source": [
    "def filter_with_any_2(input_strs: list[str]) -> list[str]:\n",
    "    ''' Using generator expression and any function\n",
    "    '''\n",
    "    return([word for word in input_strs if any(vowel in word for  vowel in 'aeiou')])"
   ]
  },
  {
   "cell_type": "code",
   "execution_count": 4,
   "id": "11f91a05",
   "metadata": {},
   "outputs": [
    {
     "data": {
      "text/plain": [
       "[True, False, False, False, False]"
      ]
     },
     "execution_count": 4,
     "metadata": {},
     "output_type": "execute_result"
    }
   ],
   "source": [
    "string = 'sdkjshakd'\n",
    "\n",
    "lst1 = [vowel in string for vowel in 'aieou']\n",
    "\n",
    "lst1"
   ]
  },
  {
   "cell_type": "code",
   "execution_count": 9,
   "id": "1bc09ad3",
   "metadata": {},
   "outputs": [
    {
     "name": "stdout",
     "output_type": "stream",
     "text": [
      "\n",
      " Second filter with any function\n",
      "['apple', 'banana']\n",
      "[]\n",
      "['e']\n",
      "['ae', 'io', 'aeiou']\n"
     ]
    }
   ],
   "source": [
    "print(\"\\n Second filter with any function\")\n",
    "print(filter_with_any_2([\"apple\", \"banana\", \"zyxvb\"]))\n",
    "print(filter_with_any_2([]))\n",
    "print(filter_with_any_2([\"q\", \"w\", \"e\", \"r\", \"t\", \"y\"]))\n",
    "print(filter_with_any_2([\"ae\", \"io\", \"aeiou\"]))"
   ]
  },
  {
   "cell_type": "code",
   "execution_count": 17,
   "id": "cfbe7496",
   "metadata": {},
   "outputs": [
    {
     "name": "stdout",
     "output_type": "stream",
     "text": [
      "True\n",
      "\n",
      "True\n",
      "h\n",
      "True\n",
      "e\n",
      "l\n",
      "False\n"
     ]
    }
   ],
   "source": [
    "\n",
    "from collections import defaultdict\n",
    "\n",
    "input_str = 'hellosdsddsd'\n",
    "string_dic = defaultdict(str)\n",
    "    \n",
    "for char in input_str: \n",
    "    if char == string_dic['previous string']:\n",
    "        is_happy = False\n",
    "        print (string_dic['previous string'])\n",
    "        print(is_happy)\n",
    "        break\n",
    "    else:\n",
    "        is_happy = True\n",
    "        print(is_happy)\n",
    "        print (string_dic['previous string'])\n",
    "    string_dic['previous string'] = char\n",
    "\n",
    "\n",
    "\n"
   ]
  },
  {
   "cell_type": "code",
   "execution_count": null,
   "id": "8198d382",
   "metadata": {},
   "outputs": [
    {
     "data": {
      "text/plain": [
       "range(0, 10)"
      ]
     },
     "execution_count": 18,
     "metadata": {},
     "output_type": "execute_result"
    }
   ],
   "source": [
    "range(len(input_str) - 2)\n",
    "thre"
   ]
  },
  {
   "cell_type": "code",
   "execution_count": null,
   "id": "b544f633",
   "metadata": {},
   "outputs": [],
   "source": []
  }
 ],
 "metadata": {
  "kernelspec": {
   "display_name": "Python 3",
   "language": "python",
   "name": "python3"
  },
  "language_info": {
   "codemirror_mode": {
    "name": "ipython",
    "version": 3
   },
   "file_extension": ".py",
   "mimetype": "text/x-python",
   "name": "python",
   "nbconvert_exporter": "python",
   "pygments_lexer": "ipython3",
   "version": "3.9.22"
  }
 },
 "nbformat": 4,
 "nbformat_minor": 5
}
